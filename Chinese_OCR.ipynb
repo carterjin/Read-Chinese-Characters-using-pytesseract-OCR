{
 "cells": [
  {
   "cell_type": "markdown",
   "metadata": {},
   "source": [
    "# Read Chinese Characters from image using OCR"
   ]
  },
  {
   "cell_type": "markdown",
   "metadata": {},
   "source": [
    "So the story is like this:\n",
    "My mother-in-law is a teacher, and she has about a hundred pages of questionaire images and they need to be converted into texts.\n",
    "So what she started to do is to have my wife type them out page by page, and she spent about an hour but haven't finished half of them. A\n",
    "fter I heard of this, I thought, I could do this with OCR using python and be done in minutes."
   ]
  },
  {
   "cell_type": "markdown",
   "metadata": {},
   "source": [
    "The images are like this:"
   ]
  },
  {
   "cell_type": "markdown",
   "metadata": {},
   "source": [
    "![](ocr_test/1.png)"
   ]
  },
  {
   "cell_type": "markdown",
   "metadata": {},
   "source": [
    "## Some Preparations\n",
    "1. You need a Python IDE, I used Spyder.\n",
    "2. You need to install Tesseract-OCR, find the installer for windows here:\n",
    "https://github.com/UB-Mannheim/tesseract/wiki\n",
    "3. You need to download the simplified chinese trained data set, which can be found here:\n",
    "https://github.com/tesseract-ocr/tessdata/blob/master/chi_sim.traineddata\n",
    "and put them in your Tesseract-OCR/tessdata folder.\n",
    "4. You need to install Python Imaging Library (PIL), to read out images.\n",
    "\n",
    "I used the following code to accomplish this task:"
   ]
  },
  {
   "cell_type": "code",
   "execution_count": null,
   "metadata": {},
   "outputs": [],
   "source": [
    "try:\n",
    "    from PIL import Image\n",
    "except ImportError:\n",
    "    import Image\n",
    "import pytesseract\n",
    "\n",
    "folder = 'YOUR FOLDER'\n",
    "\n",
    "file_names = ['1','2','3']# YOUR FILE NAME LIST\n",
    "\n",
    "for file_name in file_names:\n",
    "    pytesseract.pytesseract.tesseract_cmd = r'C:\\Program Files\\Tesseract-OCR\\tesseract.exe'\n",
    "    # Replace this line to where you installed Tesseract_OCR\n",
    "    \n",
    "    im = Image.open(folder + '/' + file_name + '.png')\n",
    "    # REPLACE WITH YOUR IMAGE EXTENTION, NOT GUARANTEED TO WORK WITH ALL IMAGE TYPE\n",
    "    # SHOULD SUPPORT JPEG, PNG, GIF, BMP, TIFF\n",
    "    \n",
    "    # Replace this line with your Tesseract-OCR/tessdata folder if different\n",
    "    tessdata_dir_config = r'--tessdata-dir \"C:/Program Files/Tesseract-OCR/tessdata\"'\n",
    "    # YOU NEED TO DOWNLOAD THE SIMPLIFIED CHINESE LANGUAGE TRAINED DATA SET\n",
    "    text = pytesseract.image_to_string(im, lang = 'chi_sim' , config = tessdata_dir_config)\n",
    "    \n",
    "    # If we print the result we can see there is an extra space between all characters,\n",
    "    # This comes from the misjudgement of spacing between characters,\n",
    "    # so I used a replace function to remove these extra spaces.\n",
    "    output = ''\n",
    "    for line in text.splitlines():\n",
    "        output = output + line.replace(' ','') + '\\n'\n",
    "    print(output)\n",
    "    \n",
    "    # Write this result in a text file.\n",
    "    text_file = open(folder + '/' + file_name + '.txt', 'w')\n",
    "    text_file.write(output)\n",
    "    text_file.close()"
   ]
  },
  {
   "cell_type": "markdown",
   "metadata": {},
   "source": [
    "The following is the read out result:\n",
    "\n",
    "又取人兄口林E工庞办切一\n",
    "\n",
    "8.贵校是否有专门的劳动教育实践基地?\n",
    "\n",
    "9.贵校少先队开展劳动教育的课时安排是怎样的?\n",
    "\n",
    "10.您认为社会与家庭在劳动教育上扮演着怎样的角色?\n",
    "\n",
    "11.贵校少先队在开展社会劳动教育与家庭劳动教育方面具体采取了哪些措施?\n",
    "\n",
    "12.贵校少先队是怎样保证校外〔社会与家庭》劳动教育的有效性的?\n",
    "\n",
    "13.贵校劳动教育的师资构成是怎样的?\n",
    "\n",
    "14.少先队辅导员在劳动教育的开展过程当中承担着哥些任务?\n",
    "\n",
    "15.在劳动教育师资培养方面贵校都采取了哪些措施?\n",
    "\n",
    "16.少先队辅导员的工作绩效考核标准有哪些,是否将劳动教育工作纳入其中?\n",
    "\n",
    "17.贵校采取考核少先队员劳动成效的标准是什么?方式有哪些?\n",
    "\n",
    "18.您认为目前贵校劳动教育的开展情况如何?体现在哪些方面?\n",
    "\n",
    "19.您对贵校少先队开展劳动教育有何期许?希望在哥些方面能够取得更进一步的发展?"
   ]
  },
  {
   "cell_type": "markdown",
   "metadata": {},
   "source": [
    "As you can see, except for the characters that are cut in half. The accuracy isn't bad. There are one or two mistakes from time to time so to ensure 100% accuracy, you'd still need to proofread. However, that's much better than typing, and I checked some of the free online OCR services, our accuracy is higher and we don't need to upload files one by one, so that's a plus.\n",
    "\n",
    "Although I spent about 30 minutes looking things up and get the code running, it took only less than 10 minutes to finish converting all the files.\n",
    "\n",
    "You can also do this for any other language, or if you want to save in the same file or save all the output in another folder, you can easily modify the coding a little to do that."
   ]
  },
  {
   "cell_type": "code",
   "execution_count": null,
   "metadata": {},
   "outputs": [],
   "source": []
  }
 ],
 "metadata": {
  "kernelspec": {
   "display_name": "Python 3",
   "language": "python",
   "name": "python3"
  },
  "language_info": {
   "codemirror_mode": {
    "name": "ipython",
    "version": 3
   },
   "file_extension": ".py",
   "mimetype": "text/x-python",
   "name": "python",
   "nbconvert_exporter": "python",
   "pygments_lexer": "ipython3",
   "version": "3.7.6"
  }
 },
 "nbformat": 4,
 "nbformat_minor": 4
}
